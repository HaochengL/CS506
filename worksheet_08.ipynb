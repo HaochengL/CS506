{
 "cells": [
  {
   "attachments": {},
   "cell_type": "markdown",
   "metadata": {},
   "source": [
    "# Worksheet 08\n",
    "\n",
    "Name:  \n",
    "UID: \n",
    "\n",
    "### Topics\n",
    "\n",
    "- Soft Clustering\n",
    "- Clustering Aggregation\n",
    "\n",
    "### Probability Review\n",
    "\n",
    "Read through [the following](https://medium.com/@gallettilance/overview-of-probability-3272b72c82c8)\n",
    "\n",
    "### Soft Clustering\n",
    "\n",
    "We generate 10 data points that come from a normal distribution with mean 5 and variance 1."
   ]
  },
  {
   "cell_type": "code",
   "execution_count": 2,
   "metadata": {},
   "outputs": [
    {
     "name": "stdout",
     "output_type": "stream",
     "text": [
      "[3.5014967773762162, 4.938092403135365, 5.6902254857320305, 3.564911957077405, 4.293464136372024, 6.993784929302416, 5.719132202192078, 5.405541833462546, 5.634111572978425, 5.197741017417594]\n"
     ]
    }
   ],
   "source": [
    "import random\n",
    "import numpy as np\n",
    "from sklearn.cluster import KMeans\n",
    "\n",
    "mean = 5\n",
    "stdev = 1\n",
    "\n",
    "s1 = np.random.normal(mean, stdev, 10).tolist()\n",
    "print(s1)"
   ]
  },
  {
   "cell_type": "markdown",
   "metadata": {},
   "source": [
    "a) Generate 10 more data points, this time coming from a normal distribution with mean 8 and variance 1."
   ]
  },
  {
   "cell_type": "code",
   "execution_count": 3,
   "metadata": {},
   "outputs": [
    {
     "name": "stdout",
     "output_type": "stream",
     "text": [
      "[6.847674025235913, 7.164902497643237, 6.998113575519019, 7.640472435118546, 8.76884941581002, 9.2406576257458, 9.000704214905308, 7.358303918509394, 6.57135281712176, 7.415302213478479]\n"
     ]
    }
   ],
   "source": [
    "s2 = np.random.normal( 8 , 1 , 10 ).tolist()\n",
    "print(s2)"
   ]
  },
  {
   "cell_type": "markdown",
   "metadata": {},
   "source": [
    "b) Flip a fair coin 10 times. If the coin lands on H, then pick the last data point of `c1` and remove it from `c1`, if T then pick the last data point from `c2` and remove it from `c2`. Add these 10 points to a list called `data`."
   ]
  },
  {
   "cell_type": "code",
   "execution_count": 4,
   "metadata": {},
   "outputs": [
    {
     "name": "stdout",
     "output_type": "stream",
     "text": [
      "[5.197741017417594, 5.634111572978425, 7.415302213478479, 5.405541833462546, 6.57135281712176, 7.358303918509394, 5.719132202192078, 9.000704214905308, 9.2406576257458, 8.76884941581002]\n"
     ]
    }
   ],
   "source": [
    "data = []\n",
    "for i in range(10):\n",
    "    # flip coin\n",
    "    coin_output = random.choice([0, 1])\n",
    "    if coin_output == 0:\n",
    "        p1 = s1.pop()\n",
    "        data.append(p1)\n",
    "    else:\n",
    "        p2 = s2.pop()\n",
    "        data.append(p2)\n",
    "print(data)"
   ]
  },
  {
   "cell_type": "markdown",
   "metadata": {},
   "source": [
    "c) This `data` is a Gaussian Mixture Distribution with 2 mixture components. Over the next few questions we will walk through the GMM algorithm to see if we can uncover the parameters we used to generate this data. First, please list all these parameters of the GMM that created `data` and the values we know they have."
   ]
  },
  {
   "cell_type": "markdown",
   "metadata": {},
   "source": [
    "1. Means of the two Gaussian distributions: 5 and 8\n",
    "2. Variances of the two Gaussian distributions: 1 and 1\n",
    "3. Weights of the two distributions (which is uncertain due to the coin flip): Depends on the actual number of samples selected from each distribution."
   ]
  },
  {
   "cell_type": "markdown",
   "metadata": {},
   "source": [
    "d) Let's assume there are two mixture components (note: we could plot the data and make the observation that there are two clusters). The EM algorithm asks us to start with a random `mean_j`, `variance_j`, `P(S_j)` for each component j. One method we could use to find sensible values for these is to apply K means with k=2 here.\n",
    "\n",
    "1. the centroids would be the estimates of the `mean_j`\n",
    "2. the intra-cluster variance could be the estimate of `variance_j`\n",
    "3. the proportion of points in each cluster could be the estimate of `P(S_j)`\n",
    "\n",
    "Go through this process and list the parameter estimates it gives. Are they close or far from the true values?"
   ]
  },
  {
   "cell_type": "code",
   "execution_count": 5,
   "metadata": {},
   "outputs": [
    {
     "name": "stdout",
     "output_type": "stream",
     "text": [
      "[7.415302213478479, 7.358303918509394, 9.000704214905308, 9.2406576257458, 8.76884941581002]\n",
      "[5.197741017417594, 5.634111572978425, 5.405541833462546, 6.57135281712176, 5.719132202192078]\n",
      "P(S_1) = 0.5,  P(S_2) = 0.5\n",
      "mean_1 = 8.356763477689801,  mean_2 = 5.70557588863448\n",
      "var_1 = 0.6498028323477654,  var_2 = 0.22055546052742292\n"
     ]
    },
    {
     "name": "stderr",
     "output_type": "stream",
     "text": [
      "/Library/Frameworks/Python.framework/Versions/3.11/lib/python3.11/site-packages/sklearn/cluster/_kmeans.py:1416: FutureWarning: The default value of `n_init` will change from 10 to 'auto' in 1.4. Set the value of `n_init` explicitly to suppress the warning\n",
      "  super()._check_params_vs_input(X, default_n_init=10)\n"
     ]
    }
   ],
   "source": [
    "kmeans = KMeans(2, init='k-means++').fit(X=np.array(data).reshape(-1, 1))\n",
    "\n",
    "s1 = [x[0] for x in filter(lambda x: x[1] == 0, zip(data, kmeans.labels_))]\n",
    "print(s1)\n",
    "s2 = [x[0] for x in filter(lambda x: x[1] == 1, zip(data, kmeans.labels_))]\n",
    "print(s2)\n",
    "\n",
    "prob_s = [len(s1) / (len(s1) + len(s2)), len(s2) / (len(s1) + len(s2))]\n",
    "mean = [sum(s1) / len(s1), sum(s2) / len(s2)]\n",
    "var = [sum(map(lambda x: (x - mean[0])**2, s1)) / len(s1), sum(map(lambda x: (x - mean[1])**2, s2)) / len(s2)]\n",
    "\n",
    "\n",
    "print(\"P(S_1) = \" + str(prob_s[0]) + \",  P(S_2) = \" + str(prob_s[1]))\n",
    "print(\"mean_1 = \" + str(mean[0]) + \",  mean_2 = \" + str(mean[1]))\n",
    "print(\"var_1 = \" + str(var[0]) + \",  var_2 = \" + str(var[1]))"
   ]
  },
  {
   "cell_type": "markdown",
   "metadata": {},
   "source": []
  },
  {
   "cell_type": "markdown",
   "metadata": {},
   "source": [
    "e) For each data point, compute `P(S_j | X_i)`. Comment on which cluster you think each point belongs to based on the estimated probabilities. How does that compare to the truth?"
   ]
  },
  {
   "cell_type": "code",
   "execution_count": 6,
   "metadata": {},
   "outputs": [
    {
     "name": "stdout",
     "output_type": "stream",
     "text": [
      "point =  5.197741017417594\n",
      "probability of observing that point if it came from cluster 0 =  4.529096069387172e-06\n",
      "probability of observing that point if it came from cluster 1 =  0.12769030976283052\n",
      "point =  5.634111572978425\n",
      "probability of observing that point if it came from cluster 0 =  9.460874747984668e-05\n",
      "probability of observing that point if it came from cluster 1 =  1.7163040585197373\n",
      "point =  7.415302213478479\n",
      "probability of observing that point if it came from cluster 0 =  0.21493427838929824\n",
      "probability of observing that point if it came from cluster 1 =  1.616415172439085e-13\n",
      "point =  5.405541833462546\n",
      "probability of observing that point if it came from cluster 0 =  2.036981527556622e-05\n",
      "probability of observing that point if it came from cluster 1 =  0.7170445203059893\n",
      "point =  6.57135281712176\n",
      "probability of observing that point if it came from cluster 0 =  0.014086230185395215\n",
      "probability of observing that point if it came from cluster 1 =  0.0008153714974289301\n",
      "point =  7.358303918509394\n",
      "probability of observing that point if it came from cluster 0 =  0.18855660012487116\n",
      "probability of observing that point if it came from cluster 1 =  1.15900758436736e-12\n",
      "point =  5.719132202192078\n",
      "probability of observing that point if it came from cluster 0 =  0.00016229379299970912\n",
      "probability of observing that point if it came from cluster 1 =  1.8053935898993165\n",
      "point =  9.000704214905308\n",
      "probability of observing that point if it came from cluster 0 =  0.3757348448646626\n",
      "probability of observing that point if it came from cluster 1 =  6.1442837165292845e-49\n",
      "point =  9.2406576257458\n",
      "probability of observing that point if it came from cluster 0 =  0.24341391184036162\n",
      "probability of observing that point if it came from cluster 1 =  2.967362177021099e-56\n",
      "point =  8.76884941581002\n",
      "probability of observing that point if it came from cluster 0 =  0.5021087771680716\n",
      "probability of observing that point if it came from cluster 1 =  2.3406297608293302e-42\n",
      "5.197741017417594\n",
      "Probability of coming from S_1 = 3.546812157687695e-05\n",
      "Probability of coming from S_2 = 0.9999645318784232\n",
      "\n",
      "5.634111572978425\n",
      "Probability of coming from S_1 = 5.512049693587739e-05\n",
      "Probability of coming from S_2 = 0.9999448795030641\n",
      "\n",
      "7.415302213478479\n",
      "Probability of coming from S_1 = 0.9999999999992479\n",
      "Probability of coming from S_2 = 7.520508987915591e-13\n",
      "\n",
      "5.405541833462546\n",
      "Probability of coming from S_1 = 2.8407213288774217e-05\n",
      "Probability of coming from S_2 = 0.9999715927867112\n",
      "\n",
      "6.57135281712176\n",
      "Probability of coming from S_1 = 0.9452829625443054\n",
      "Probability of coming from S_2 = 0.05471703745569458\n",
      "\n",
      "7.358303918509394\n",
      "Probability of coming from S_1 = 0.9999999999938533\n",
      "Probability of coming from S_2 = 6.1467356941771635e-12\n",
      "\n",
      "5.719132202192078\n",
      "Probability of coming from S_1 = 8.988577671039592e-05\n",
      "Probability of coming from S_2 = 0.9999101142232896\n",
      "\n",
      "9.000704214905308\n",
      "Probability of coming from S_1 = 1.0\n",
      "Probability of coming from S_2 = 1.635271202686144e-48\n",
      "\n",
      "9.2406576257458\n",
      "Probability of coming from S_1 = 1.0\n",
      "Probability of coming from S_2 = 1.2190602232164887e-55\n",
      "\n",
      "8.76884941581002\n",
      "Probability of coming from S_1 = 1.0\n",
      "Probability of coming from S_2 = 4.661598974689598e-42\n",
      "\n"
     ]
    }
   ],
   "source": [
    "from scipy.stats import norm\n",
    "\n",
    "prob_s0_x = [] # P(S_0 | X_i)\n",
    "prob_s1_x = [] # P(S_1 | X_i)\n",
    "prob_x = [] # P(X_i)\n",
    "\n",
    "k = 2\n",
    "\n",
    "for p in data:\n",
    "    print(\"point = \", p)\n",
    "    pdf_i = []\n",
    "\n",
    "    for j in range(k):\n",
    "        # P(X_i | S_j)\n",
    "        pdf_i.append(norm.pdf(p, mean[j], var[j]))\n",
    "        print(\"probability of observing that point if it came from cluster \" + str(j) + \" = \", pdf_i[j])\n",
    "        # P(S_j) already computed\n",
    "        prob_s[j]\n",
    "\n",
    "    # P(X_i) = P(S_0)P(X_i | S_0) + P(S_1)P(X_i | S_1)\n",
    "    prob_x = prob_s[0] * pdf_i[0] + prob_s[1] * pdf_i[1]\n",
    "\n",
    "    # P(S_j | X_i) = P(X_i | S_j)P(S_j) / P(X_i)\n",
    "    prob_s0_x.append(pdf_i[0] * prob_s[0] / prob_x)\n",
    "    prob_s1_x.append(pdf_i[1] * prob_s[1] / prob_x)\n",
    "\n",
    "\n",
    "probs = zip(data, prob_s0_x, prob_s1_x)\n",
    "for p in probs:\n",
    "    print(p[0])\n",
    "    print(\"Probability of coming from S_1 = \" + str(p[1]))\n",
    "    print(\"Probability of coming from S_2 = \" + str(p[2]))\n",
    "    print()\n"
   ]
  },
  {
   "cell_type": "markdown",
   "metadata": {},
   "source": [
    "f) Having computed `P(S_j | X_i)`, update the estimates of `mean_j`, `var_j`, and `P(S_j)`. How different are these values from the original ones you got from K means? briefly comment."
   ]
  },
  {
   "cell_type": "code",
   "execution_count": 7,
   "metadata": {},
   "outputs": [
    {
     "name": "stdout",
     "output_type": "stream",
     "text": [
      "P(S_1) = 0.5,  P(S_2) = 0.5\n",
      "mean_1 = 8.072800205538872,  mean_2 = 5.503732682828927\n",
      "var_1 = 0.9729227230320431,  var_2 = 0.056486857630339234\n"
     ]
    }
   ],
   "source": [
    "prob_c = [sum(prob_s0_x) / len(prob_s0_x), sum(prob_s1_x) / len(prob_s1_x)]\n",
    "mean = [sum([x[0] * x[1] for x in zip(prob_s0_x, data)]) / sum(prob_s0_x), sum([x[0] * x[1] for x in zip(prob_s1_x, data)]) / sum(prob_s1_x)]\n",
    "var = [sum([(x - mean[0])**2 * prob for x, prob in zip(data, prob_s0_x)]) / sum(prob_s0_x), sum([(x - mean[1])**2 * prob for x, prob in zip(data, prob_s1_x)]) / sum(prob_s1_x)]\n",
    "\n",
    "\n",
    "print(\"P(S_1) = \" + str(prob_s[0]) + \",  P(S_2) = \" + str(prob_s[1]))\n",
    "print(\"mean_1 = \" + str(mean[0]) + \",  mean_2 = \" + str(mean[1]))\n",
    "print(\"var_1 = \" + str(var[0]) + \",  var_2 = \" + str(var[1]))"
   ]
  },
  {
   "cell_type": "markdown",
   "metadata": {},
   "source": []
  },
  {
   "cell_type": "markdown",
   "metadata": {},
   "source": [
    "g) Update `P(S_j | X_i)`. Comment on any differences or lack thereof you observe."
   ]
  },
  {
   "cell_type": "code",
   "execution_count": 8,
   "metadata": {},
   "outputs": [
    {
     "name": "stdout",
     "output_type": "stream",
     "text": [
      "5.197741017417594\n",
      "Updated Probability of coming from S_1 = 0.011435099387608769\n",
      "Updated Probability of coming from S_2 = 0.9885649006123912\n",
      "\n",
      "5.634111572978425\n",
      "Updated Probability of coming from S_1 = 0.018960815716219374\n",
      "Updated Probability of coming from S_2 = 0.9810391842837807\n",
      "\n",
      "7.415302213478479\n",
      "Updated Probability of coming from S_1 = 0.9999999999999682\n",
      "Updated Probability of coming from S_2 = 3.17094149746939e-14\n",
      "\n",
      "5.405541833462546\n",
      "Updated Probability of coming from S_1 = 0.009842699540707092\n",
      "Updated Probability of coming from S_2 = 0.9901573004592928\n",
      "\n",
      "6.57135281712176\n",
      "Updated Probability of coming from S_1 = 0.999625782307995\n",
      "Updated Probability of coming from S_2 = 0.00037421769200498206\n",
      "\n",
      "7.358303918509394\n",
      "Updated Probability of coming from S_1 = 0.9999999999997793\n",
      "Updated Probability of coming from S_2 = 2.2072606146579682e-13\n",
      "\n",
      "5.719132202192078\n",
      "Updated Probability of coming from S_1 = 0.029984804346060566\n",
      "Updated Probability of coming from S_2 = 0.9700151956539393\n",
      "\n",
      "9.000704214905308\n",
      "Updated Probability of coming from S_1 = 1.0\n",
      "Updated Probability of coming from S_2 = 4.304206455546087e-47\n",
      "\n",
      "9.2406576257458\n",
      "Updated Probability of coming from S_1 = 1.0\n",
      "Updated Probability of coming from S_2 = 1.1840306237189345e-53\n",
      "\n",
      "8.76884941581002\n",
      "Updated Probability of coming from S_1 = 1.0\n",
      "Updated Probability of coming from S_2 = 3.774797018242283e-41\n",
      "\n"
     ]
    }
   ],
   "source": [
    "prob_s0_x = []  # Updated P(S_0 | X_i)\n",
    "prob_s1_x = []  # Updated P(S_1 | X_i)\n",
    "\n",
    "for p in data:\n",
    "    pdf_i = []\n",
    "\n",
    "    for j in range(k):\n",
    "        # P(X_i | S_j)\n",
    "        pdf_i.append(norm.pdf(p, mean[j], var[j]**0.5))\n",
    "        \n",
    "    # P(X_i) = P(S_0)P(X_i | S_0) + P(S_1)P(X_i | S_1)\n",
    "    prob_x = prob_c[0] * pdf_i[0] + prob_c[1] * pdf_i[1]\n",
    "\n",
    "    # P(S_j | X_i) = P(X_i | S_j)P(S_j) / P(X_i)\n",
    "    prob_s0_x.append(pdf_i[0] * prob_c[0] / prob_x)\n",
    "    prob_s1_x.append(pdf_i[1] * prob_c[1] / prob_x)\n",
    "\n",
    "probs = zip(data, prob_s0_x, prob_s1_x)\n",
    "for p in probs:\n",
    "    print(p[0])\n",
    "    print(\"Updated Probability of coming from S_1 = \" + str(p[1]))\n",
    "    print(\"Updated Probability of coming from S_2 = \" + str(p[2]))\n",
    "    print()\n"
   ]
  },
  {
   "cell_type": "markdown",
   "metadata": {},
   "source": []
  },
  {
   "cell_type": "markdown",
   "metadata": {},
   "source": [
    "h) Use `P(S_j | X_i)` to create a hard assignment - label each point as belonging to a specific cluster (0 or 1)"
   ]
  },
  {
   "cell_type": "code",
   "execution_count": 9,
   "metadata": {},
   "outputs": [],
   "source": [
    "hard_assignments = [0 if prob0 > prob1 else 1 for prob0, prob1 in zip(prob_s0_x, prob_s1_x)]\n"
   ]
  }
 ],
 "metadata": {
  "kernelspec": {
   "display_name": "Python 3",
   "language": "python",
   "name": "python3"
  },
  "language_info": {
   "codemirror_mode": {
    "name": "ipython",
    "version": 3
   },
   "file_extension": ".py",
   "mimetype": "text/x-python",
   "name": "python",
   "nbconvert_exporter": "python",
   "pygments_lexer": "ipython3",
   "version": "3.11.5"
  },
  "orig_nbformat": 4,
  "vscode": {
   "interpreter": {
    "hash": "e7370f93d1d0cde622a1f8e1c04877d8463912d04d973331ad4851f04de6915a"
   }
  }
 },
 "nbformat": 4,
 "nbformat_minor": 2
}
